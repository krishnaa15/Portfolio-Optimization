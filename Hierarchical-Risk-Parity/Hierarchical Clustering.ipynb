{
 "cells": [
  {
   "cell_type": "code",
   "execution_count": 13,
   "metadata": {},
   "outputs": [],
   "source": [
    "import pandas as pd\n",
    "import numpy as np\n",
    "from scipy.cluster.hierarchy import dendrogram, linkage\n",
    "from matplotlib import pyplot as plt"
   ]
  },
  {
   "cell_type": "code",
   "execution_count": 42,
   "metadata": {},
   "outputs": [
    {
     "data": {
      "text/plain": [
       "'3.1.2'"
      ]
     },
     "execution_count": 42,
     "metadata": {},
     "output_type": "execute_result"
    }
   ],
   "source": [
    "import matplotlib\n",
    "matplotlib.__version__"
   ]
  },
  {
   "cell_type": "code",
   "execution_count": 2,
   "metadata": {},
   "outputs": [],
   "source": [
    "assets = pd.read_csv('pricing.csv', index_col=0)"
   ]
  },
  {
   "cell_type": "code",
   "execution_count": 5,
   "metadata": {},
   "outputs": [],
   "source": [
    "returns = assets.pct_change().dropna()"
   ]
  },
  {
   "cell_type": "code",
   "execution_count": 7,
   "metadata": {},
   "outputs": [
    {
     "data": {
      "text/html": [
       "<div>\n",
       "<style scoped>\n",
       "    .dataframe tbody tr th:only-of-type {\n",
       "        vertical-align: middle;\n",
       "    }\n",
       "\n",
       "    .dataframe tbody tr th {\n",
       "        vertical-align: top;\n",
       "    }\n",
       "\n",
       "    .dataframe thead th {\n",
       "        text-align: right;\n",
       "    }\n",
       "</style>\n",
       "<table border=\"1\" class=\"dataframe\">\n",
       "  <thead>\n",
       "    <tr style=\"text-align: right;\">\n",
       "      <th></th>\n",
       "      <th>AAPL</th>\n",
       "      <th>PETS</th>\n",
       "      <th>STMP</th>\n",
       "      <th>VZ</th>\n",
       "      <th>SO</th>\n",
       "      <th>T</th>\n",
       "      <th>FXY</th>\n",
       "      <th>FXB</th>\n",
       "      <th>FXF</th>\n",
       "      <th>VCLT</th>\n",
       "    </tr>\n",
       "  </thead>\n",
       "  <tbody>\n",
       "    <tr>\n",
       "      <th>2015-01-05</th>\n",
       "      <td>-0.028172</td>\n",
       "      <td>-0.010352</td>\n",
       "      <td>-0.021013</td>\n",
       "      <td>-0.008305</td>\n",
       "      <td>-0.004254</td>\n",
       "      <td>-0.009448</td>\n",
       "      <td>0.007309</td>\n",
       "      <td>-0.005245</td>\n",
       "      <td>-0.005133</td>\n",
       "      <td>0.001611</td>\n",
       "    </tr>\n",
       "    <tr>\n",
       "      <th>2015-01-06</th>\n",
       "      <td>0.000094</td>\n",
       "      <td>-0.006276</td>\n",
       "      <td>-0.016312</td>\n",
       "      <td>0.010093</td>\n",
       "      <td>0.012002</td>\n",
       "      <td>0.001490</td>\n",
       "      <td>0.009839</td>\n",
       "      <td>-0.006741</td>\n",
       "      <td>-0.002580</td>\n",
       "      <td>0.010611</td>\n",
       "    </tr>\n",
       "    <tr>\n",
       "      <th>2015-01-07</th>\n",
       "      <td>0.014022</td>\n",
       "      <td>0.022456</td>\n",
       "      <td>0.024875</td>\n",
       "      <td>-0.006453</td>\n",
       "      <td>0.011055</td>\n",
       "      <td>0.001207</td>\n",
       "      <td>-0.005480</td>\n",
       "      <td>-0.002957</td>\n",
       "      <td>-0.005380</td>\n",
       "      <td>0.001909</td>\n",
       "    </tr>\n",
       "    <tr>\n",
       "      <th>2015-01-08</th>\n",
       "      <td>0.038422</td>\n",
       "      <td>-0.002059</td>\n",
       "      <td>0.002981</td>\n",
       "      <td>0.021433</td>\n",
       "      <td>0.000795</td>\n",
       "      <td>0.009949</td>\n",
       "      <td>-0.004164</td>\n",
       "      <td>-0.001618</td>\n",
       "      <td>-0.004161</td>\n",
       "      <td>-0.008151</td>\n",
       "    </tr>\n",
       "    <tr>\n",
       "      <th>2015-01-09</th>\n",
       "      <td>0.001072</td>\n",
       "      <td>-0.021320</td>\n",
       "      <td>-0.012312</td>\n",
       "      <td>-0.008902</td>\n",
       "      <td>-0.012714</td>\n",
       "      <td>-0.002985</td>\n",
       "      <td>0.009223</td>\n",
       "      <td>0.005401</td>\n",
       "      <td>0.004596</td>\n",
       "      <td>0.002989</td>\n",
       "    </tr>\n",
       "  </tbody>\n",
       "</table>\n",
       "</div>"
      ],
      "text/plain": [
       "                AAPL      PETS      STMP        VZ        SO         T  \\\n",
       "2015-01-05 -0.028172 -0.010352 -0.021013 -0.008305 -0.004254 -0.009448   \n",
       "2015-01-06  0.000094 -0.006276 -0.016312  0.010093  0.012002  0.001490   \n",
       "2015-01-07  0.014022  0.022456  0.024875 -0.006453  0.011055  0.001207   \n",
       "2015-01-08  0.038422 -0.002059  0.002981  0.021433  0.000795  0.009949   \n",
       "2015-01-09  0.001072 -0.021320 -0.012312 -0.008902 -0.012714 -0.002985   \n",
       "\n",
       "                 FXY       FXB       FXF      VCLT  \n",
       "2015-01-05  0.007309 -0.005245 -0.005133  0.001611  \n",
       "2015-01-06  0.009839 -0.006741 -0.002580  0.010611  \n",
       "2015-01-07 -0.005480 -0.002957 -0.005380  0.001909  \n",
       "2015-01-08 -0.004164 -0.001618 -0.004161 -0.008151  \n",
       "2015-01-09  0.009223  0.005401  0.004596  0.002989  "
      ]
     },
     "execution_count": 7,
     "metadata": {},
     "output_type": "execute_result"
    }
   ],
   "source": [
    "returns.head()"
   ]
  },
  {
   "cell_type": "code",
   "execution_count": 37,
   "metadata": {},
   "outputs": [
    {
     "data": {
      "text/plain": [
       "Index(['AAPL', 'PETS', 'STMP', 'VZ', 'SO', 'T', 'FXY', 'FXB', 'FXF', 'VCLT'], dtype='object')"
      ]
     },
     "execution_count": 37,
     "metadata": {},
     "output_type": "execute_result"
    }
   ],
   "source": [
    "returns.columns"
   ]
  },
  {
   "cell_type": "markdown",
   "metadata": {},
   "source": [
    "### Hierarchical Clustering\n",
    "\n",
    "> Hierarchical clustering can be performed with a distance matrix. Then it repeatedly executed the following 2 steps:\n",
    "1. Start by treating indivisual items as a cluster. Identify 2 clusters that are closest together\n",
    "2. merge the 2 most similar clusters.\n",
    "\n",
    "> This continues until all the clusters are merge together.\n",
    "\n",
    "\n",
    "> The distance between 2 clusters can be computed based on length of the straight line, which is the Euclidean distance. This is called **measure of distance/similarity.**\n",
    "\n",
    "> After selecting a distance metric, it is necessary to determine from where distance is computed. For example, it can be computed between the 2 similar parts of a cluster, the 2 least similar or some other criterion. This is called **Linkage Criteria**"
   ]
  },
  {
   "cell_type": "code",
   "execution_count": 9,
   "metadata": {},
   "outputs": [],
   "source": [
    "# correlation matrix\n",
    "corr = returns.corr()"
   ]
  },
  {
   "cell_type": "code",
   "execution_count": 10,
   "metadata": {},
   "outputs": [],
   "source": [
    "# distance matrix\n",
    "d_corr = np.sqrt(0.5*(1-corr))"
   ]
  },
  {
   "cell_type": "code",
   "execution_count": 16,
   "metadata": {},
   "outputs": [
    {
     "name": "stderr",
     "output_type": "stream",
     "text": [
      "/home/rocky/anaconda3/lib/python3.7/site-packages/ipykernel_launcher.py:1: ClusterWarning: scipy.cluster: The symmetric non-negative hollow observation matrix looks suspiciously like an uncondensed distance matrix\n",
      "  \"\"\"Entry point for launching an IPython kernel.\n"
     ]
    },
    {
     "data": {
      "image/png": "[encoded data removed]",
      "text/plain": [
       "<Figure size 1800x720 with 1 Axes>"
      ]
     },
     "metadata": {
      "needs_background": "light"
     },
     "output_type": "display_data"
    }
   ],
   "source": [
    "link = linkage(d_corr, 'single')\n",
    "Z = pd.DataFrame(link)\n",
    "\n",
    "fig = plt.figure(figsize=(25, 10))\n",
    "dn = dendrogram(Z)\n",
    "# plt.show()"
   ]
  },
  {
   "cell_type": "code",
   "execution_count": 36,
   "metadata": {},
   "outputs": [
    {
     "data": {
      "text/html": [
       "<div>\n",
       "<style scoped>\n",
       "    .dataframe tbody tr th:only-of-type {\n",
       "        vertical-align: middle;\n",
       "    }\n",
       "\n",
       "    .dataframe tbody tr th {\n",
       "        vertical-align: top;\n",
       "    }\n",
       "\n",
       "    .dataframe thead th {\n",
       "        text-align: right;\n",
       "    }\n",
       "</style>\n",
       "<table border=\"1\" class=\"dataframe\">\n",
       "  <thead>\n",
       "    <tr style=\"text-align: right;\">\n",
       "      <th></th>\n",
       "      <th>0</th>\n",
       "      <th>1</th>\n",
       "      <th>2</th>\n",
       "      <th>3</th>\n",
       "    </tr>\n",
       "  </thead>\n",
       "  <tbody>\n",
       "    <tr>\n",
       "      <th>0</th>\n",
       "      <td>3.0</td>\n",
       "      <td>5.0</td>\n",
       "      <td>0.618707</td>\n",
       "      <td>2.0</td>\n",
       "    </tr>\n",
       "    <tr>\n",
       "      <th>1</th>\n",
       "      <td>6.0</td>\n",
       "      <td>8.0</td>\n",
       "      <td>0.788512</td>\n",
       "      <td>2.0</td>\n",
       "    </tr>\n",
       "    <tr>\n",
       "      <th>2</th>\n",
       "      <td>9.0</td>\n",
       "      <td>11.0</td>\n",
       "      <td>0.837068</td>\n",
       "      <td>3.0</td>\n",
       "    </tr>\n",
       "    <tr>\n",
       "      <th>3</th>\n",
       "      <td>4.0</td>\n",
       "      <td>10.0</td>\n",
       "      <td>0.845906</td>\n",
       "      <td>3.0</td>\n",
       "    </tr>\n",
       "    <tr>\n",
       "      <th>4</th>\n",
       "      <td>7.0</td>\n",
       "      <td>12.0</td>\n",
       "      <td>0.869022</td>\n",
       "      <td>4.0</td>\n",
       "    </tr>\n",
       "    <tr>\n",
       "      <th>5</th>\n",
       "      <td>13.0</td>\n",
       "      <td>14.0</td>\n",
       "      <td>0.878178</td>\n",
       "      <td>7.0</td>\n",
       "    </tr>\n",
       "    <tr>\n",
       "      <th>6</th>\n",
       "      <td>0.0</td>\n",
       "      <td>1.0</td>\n",
       "      <td>0.897254</td>\n",
       "      <td>2.0</td>\n",
       "    </tr>\n",
       "    <tr>\n",
       "      <th>7</th>\n",
       "      <td>15.0</td>\n",
       "      <td>16.0</td>\n",
       "      <td>0.898109</td>\n",
       "      <td>9.0</td>\n",
       "    </tr>\n",
       "    <tr>\n",
       "      <th>8</th>\n",
       "      <td>2.0</td>\n",
       "      <td>17.0</td>\n",
       "      <td>0.924699</td>\n",
       "      <td>10.0</td>\n",
       "    </tr>\n",
       "  </tbody>\n",
       "</table>\n",
       "</div>"
      ],
      "text/plain": [
       "      0     1         2     3\n",
       "0   3.0   5.0  0.618707   2.0\n",
       "1   6.0   8.0  0.788512   2.0\n",
       "2   9.0  11.0  0.837068   3.0\n",
       "3   4.0  10.0  0.845906   3.0\n",
       "4   7.0  12.0  0.869022   4.0\n",
       "5  13.0  14.0  0.878178   7.0\n",
       "6   0.0   1.0  0.897254   2.0\n",
       "7  15.0  16.0  0.898109   9.0\n",
       "8   2.0  17.0  0.924699  10.0"
      ]
     },
     "execution_count": 36,
     "metadata": {},
     "output_type": "execute_result"
    }
   ],
   "source": [
    "Z"
   ]
  },
  {
   "cell_type": "markdown",
   "metadata": {},
   "source": [
    "> This stage allows us to define a linkage matrix as an (N-1)x4 matrix with structure $Y = \\{(y_{m,1},y_{m,2},y_{m,3},y_{m,4})\\}_{m=1,...N-1}$ (i.e, with one 4-tuple per cluster). Items ($y_{m,1}, y_{m.2}$) report the constituents. Item $y_m,3$ reports the distance between $y_{m,1}$ and $y_{m,2}$. Item $y_{m,4}$ reports the number of original items included in cluster $m$"
   ]
  },
  {
   "cell_type": "markdown",
   "metadata": {},
   "source": [
    "### Quasi-Diagonalization"
   ]
  },
  {
   "cell_type": "markdown",
   "metadata": {},
   "source": [
    "> This stage reorganizes the rows and columns of the covariance matrix, so that the largest values lie along the diagonal. This quasi-diagonalization of the covariance matrix renders a useful property - similar investments are placed together, and dissimilar investments are placed far apart. \n",
    "\n",
    "> The algorithm works as follows -\n",
    "1. We know that each row of the linkage matrix megers 2 branches into 1. We replace clusters in ($y_{N-1, 1}, y_{N-1,2}$) with their constituents recursively, until no clusters remain.\n",
    "2. These replacemnets preserve the order of the clustering.\n",
    "3. The output is a sorted list fo original items. "
   ]
  },
  {
   "cell_type": "code",
   "execution_count": 18,
   "metadata": {},
   "outputs": [],
   "source": [
    "def get_quasi_diag(link):\n",
    "    \n",
    "    # sort clustered items by distance\n",
    "    \n",
    "    link = link.astype(int)\n",
    "    \n",
    "    # get the first and the second item of the last tuple\n",
    "    sort_ix = pd.Series([link[-1,0], link[-1,1]]) \n",
    "    \n",
    "    # the total num of items is the third item of the last list\n",
    "    num_items = link[-1, 3]\n",
    "    \n",
    "    # if the max of sort_ix is bigger than or equal to the max_items\n",
    "    while sort_ix.max() >= num_items:\n",
    "        # assign sort_ix index with 24 x 24\n",
    "        sort_ix.index = range(0, sort_ix.shape[0]*2, 2) # odd numers as index\n",
    "        \n",
    "        df0 = sort_ix[sort_ix >= num_items] # find clusters\n",
    "        \n",
    "        # df0 contain even index and cluster index\n",
    "        i = df0.index\n",
    "        j = df0.values - num_items # \n",
    "        \n",
    "        sort_ix[i] = link[j,0] # item 1\n",
    "        \n",
    "        df0  = pd.Series(link[j, 1], index=i+1)\n",
    "        \n",
    "        sort_ix = sort_ix.append(df0)\n",
    "        sort_ix = sort_ix.sort_index()\n",
    "        \n",
    "        sort_ix.index = range(sort_ix.shape[0])\n",
    "        \n",
    "    \n",
    "    return sort_ix.tolist()"
   ]
  },
  {
   "cell_type": "code",
   "execution_count": 19,
   "metadata": {},
   "outputs": [
    {
     "data": {
      "text/plain": [
       "[2, 4, 3, 5, 7, 9, 6, 8, 0, 1]"
      ]
     },
     "execution_count": 19,
     "metadata": {},
     "output_type": "execute_result"
    }
   ],
   "source": [
    "sort_ix = get_quasi_diag(link)\n",
    "sort_ix"
   ]
  },
  {
   "cell_type": "markdown",
   "metadata": {},
   "source": [
    "### Recursive Bisection\n",
    "\n",
    "> Stage 2 has delivered a quasi-diagonal matrix. The inverse - variance is optimal for a diagonal covariance matrix. We can take advantage of these facts in 2 different ways \n",
    "1. bottom-up, to define the variance of a contiguous subset as teh variance of an inverse-variance allocation.\n",
    "2. top-down, to split allocations between adjacent subsets in inverse proportion to their aggregated variances."
   ]
  },
  {
   "cell_type": "code",
   "execution_count": 20,
   "metadata": {},
   "outputs": [],
   "source": [
    "def get_cluster_var(cov, c_items):\n",
    "    cov_ = cov.iloc[c_items, c_items] # matrix slice\n",
    "    # calculate the inversev-variance portfolio\n",
    "    ivp = 1./np.diag(cov_)\n",
    "    ivp/=ivp.sum()\n",
    "    w_ = ivp.reshape(-1,1)\n",
    "    c_var = np.dot(np.dot(w_.T, cov_), w_)[0,0]\n",
    "    return c_var\n",
    "def get_rec_bipart(cov, sort_ix):\n",
    "    # compute HRP allocation\n",
    "    # intialize weights of 1\n",
    "    w = pd.Series(1, index=sort_ix)\n",
    "    \n",
    "    # intialize all items in one cluster\n",
    "    c_items = [sort_ix]\n",
    "    while len(c_items) > 0:\n",
    "        # bisection\n",
    "        \"\"\"\n",
    "        [[3, 6, 0, 9, 2, 4, 13], [5, 12, 8, 10, 7, 1, 11]]\n",
    "        [[3, 6, 0], [9, 2, 4, 13], [5, 12, 8], [10, 7, 1, 11]]\n",
    "        [[3], [6, 0], [9, 2], [4, 13], [5], [12, 8], [10, 7], [1, 11]]\n",
    "        [[6], [0], [9], [2], [4], [13], [12], [8], [10], [7], [1], [11]]\n",
    "        \"\"\"\n",
    "        c_items = [i[int(j):int(k)] for i in c_items for j,k in \n",
    "                   ((0,len(i)/2),(len(i)/2,len(i))) if len(i)>1]\n",
    "        \n",
    "        # now it has 2\n",
    "        for i in range(0, len(c_items), 2):\n",
    "            \n",
    "            c_items0 = c_items[i] # cluster 1\n",
    "            c_items1 = c_items[i+1] # cluter 2\n",
    "            \n",
    "            c_var0 = get_cluster_var(cov, c_items0)\n",
    "            c_var1 = get_cluster_var(cov, c_items1)\n",
    "            \n",
    "            alpha = 1 - c_var0/(c_var0+c_var1)\n",
    "            \n",
    "            w[c_items0] *= alpha\n",
    "            w[c_items1] *=1-alpha\n",
    "    return w"
   ]
  },
  {
   "cell_type": "code",
   "execution_count": 30,
   "metadata": {},
   "outputs": [],
   "source": [
    "cov = returns.cov()\n",
    "weights = get_rec_bipart(cov, sort_ix)"
   ]
  },
  {
   "cell_type": "code",
   "execution_count": 31,
   "metadata": {},
   "outputs": [],
   "source": [
    "new_index = [returns.columns[i] for i in weights.index]\n",
    "weights.index = new_index"
   ]
  },
  {
   "cell_type": "code",
   "execution_count": 32,
   "metadata": {},
   "outputs": [
    {
     "data": {
      "text/plain": [
       "STMP    0.004901\n",
       "SO      0.082653\n",
       "VZ      0.054359\n",
       "T       0.045932\n",
       "FXB     0.158309\n",
       "VCLT    0.234561\n",
       "FXY     0.194728\n",
       "FXF     0.181731\n",
       "AAPL    0.031296\n",
       "PETS    0.011530\n",
       "dtype: float64"
      ]
     },
     "execution_count": 32,
     "metadata": {},
     "output_type": "execute_result"
    }
   ],
   "source": [
    "weights"
   ]
  },
  {
   "cell_type": "code",
   "execution_count": null,
   "metadata": {},
   "outputs": [],
   "source": []
  }
 ],
 "metadata": {
  "kernelspec": {
   "display_name": "Python 3",
   "language": "python",
   "name": "python3"
  },
  "language_info": {
   "codemirror_mode": {
    "name": "ipython",
    "version": 3
   },
   "file_extension": ".py",
   "mimetype": "text/x-python",
   "name": "python",
   "nbconvert_exporter": "python",
   "pygments_lexer": "ipython3",
   "version": "3.7.3"
  }
 },
 "nbformat": 4,
 "nbformat_minor": 2
}
